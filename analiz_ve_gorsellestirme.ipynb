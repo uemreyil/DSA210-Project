{
 "cells": [
  {
   "cell_type": "code",
   "execution_count": null,
   "id": "69832f11",
   "metadata": {},
   "outputs": [],
   "source": [
    "\n",
    "import pandas as pd\n",
    "import matplotlib.pyplot as plt\n",
    "combined_df = pd.read_csv(\"birlestirilmis_veriler_clean.csv\")\n",
    "print(combined_df.head())\n"
   ]
  },
  {
   "cell_type": "code",
   "execution_count": null,
   "id": "8f27adf6",
   "metadata": {},
   "outputs": [],
   "source": [
    "\n",
    "plt.figure(figsize=(10, 6))\n",
    "plt.plot(combined_df[\"date\"], combined_df[\"steps\"], label=\"Adım Sayısı\", marker='o')\n",
    "plt.plot(combined_df[\"date\"], combined_df[\"avg_temp\"], label=\"Ortalama Sıcaklık (°C)\", marker='x')\n",
    "plt.xlabel(\"Tarih\")\n",
    "plt.ylabel(\"Değer\")\n",
    "plt.title(\"Günlük Adım Sayısı ve Ortalama Sıcaklık\")\n",
    "plt.legend()\n",
    "plt.xticks(rotation=45)\n",
    "plt.tight_layout()\n",
    "plt.show()\n"
   ]
  },
  {
   "cell_type": "code",
   "execution_count": null,
   "id": "bcd01b90",
   "metadata": {},
   "outputs": [],
   "source": [
    "\n",
    "plt.figure(figsize=(8, 6))\n",
    "plt.scatter(combined_df[\"avg_temp\"], combined_df[\"steps\"], alpha=0.7, color='purple')\n",
    "plt.xlabel(\"Ortalama Sıcaklık (°C)\")\n",
    "plt.ylabel(\"Adım Sayısı\")\n",
    "plt.title(\"Sıcaklık ve Adım Sayısı Dağılımı\")\n",
    "plt.grid(True)\n",
    "plt.show()\n"
   ]
  }
 ],
 "metadata": {},
 "nbformat": 4,
 "nbformat_minor": 5
}